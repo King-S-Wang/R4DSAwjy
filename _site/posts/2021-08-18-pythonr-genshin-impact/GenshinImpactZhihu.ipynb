{
 "cells": [
  {
   "cell_type": "code",
   "execution_count": 55,
   "metadata": {},
   "outputs": [],
   "source": [
    "with open('data/advantage.txt',encoding=\"utf8\") as f:\n",
    "    text=f.read()"
   ]
  },
  {
   "cell_type": "code",
   "execution_count": 56,
   "metadata": {},
   "outputs": [],
   "source": [
    "with open('data/keywords.txt',encoding=\"utf8\") as f:\n",
    "    keywords=f.read().split()"
   ]
  },
  {
   "cell_type": "code",
   "execution_count": 57,
   "metadata": {},
   "outputs": [
    {
     "name": "stdout",
     "output_type": "stream",
     "text": [
      "\"音乐\",\t\"好听\",\t\"乐器\",\t\"配音\",\t\"配乐\",\t\"免费\",\t\"友好\",\t\"简单\",\t\"引导\",\t\"时间\",\t\n",
      "\n",
      "\"难度\",\t\"xp\",\t\"性癖\",\t\"帅\",\t\"人物\",\t\"放松\",\t\"休闲\",\t\"细节\",\t\"画风\",\t\"日式\",\t\n",
      "\n",
      "\"充钱\",\t\"氪金\",\t\"原石\",\t\"战斗\",\t\"手感\",\t\"美工\",\t\"画质\",\t\"风景\",\t\"山峰\",\t\"美术\",\t\n",
      "\n",
      "\"画面\",\t\"精美\",\t\"地图\",\t\"建模\",\t\"随机\",\t\"副本\",\t\"文案\",\t\"剧情\",\t\"界面\",\t\"元素\",\t\n",
      "\n",
      "\"运营\",\t\"活动\",\t\"探索\",\t\"故事\",\t\"文化\",\t\"国风\",\t\"社交\",\t\"联机\",\t\"单机\",\t\"二次元\",\t\n",
      "\n",
      "\"卡通\",\t\"抽卡\",\t\"角色\",\t\"武器\",\t\"惊喜\",\t\"箱子\",\t\"神瞳\",\t\"新颖\",\t\"多平台\",\t\"跨平台\",\t\n",
      "\n",
      "\"全平台\",\t\"运营\",\t\"宣传\",\t"
     ]
    }
   ],
   "source": [
    "count=0\n",
    "for i in keywords:\n",
    "    print(\"\\\"\",i,\"\\\"\",\",\",sep=\"\",end=\"\\t\")\n",
    "    count+=1\n",
    "    if count>9:\n",
    "        count=0\n",
    "        print(\"\\n\")"
   ]
  },
  {
   "cell_type": "code",
   "execution_count": 58,
   "metadata": {},
   "outputs": [],
   "source": [
    "import re\n",
    "import pandas\n",
    "DataTable = pandas.DataFrame(columns=['keywords','num'])\n",
    "count=0\n",
    "for i in range(len(keywords)):\n",
    "    temp=re.findall(r'{}'.format(keywords[i]),text)\n",
    "    DataTable.loc[i]=[keywords[i], len(temp)]"
   ]
  },
  {
   "cell_type": "code",
   "execution_count": 59,
   "metadata": {},
   "outputs": [
    {
     "data": {
      "text/html": [
       "<div>\n",
       "<style scoped>\n",
       "    .dataframe tbody tr th:only-of-type {\n",
       "        vertical-align: middle;\n",
       "    }\n",
       "\n",
       "    .dataframe tbody tr th {\n",
       "        vertical-align: top;\n",
       "    }\n",
       "\n",
       "    .dataframe thead th {\n",
       "        text-align: right;\n",
       "    }\n",
       "</style>\n",
       "<table border=\"1\" class=\"dataframe\">\n",
       "  <thead>\n",
       "    <tr style=\"text-align: right;\">\n",
       "      <th></th>\n",
       "      <th>keywords</th>\n",
       "      <th>num</th>\n",
       "    </tr>\n",
       "  </thead>\n",
       "  <tbody>\n",
       "    <tr>\n",
       "      <th>0</th>\n",
       "      <td>音乐</td>\n",
       "      <td>41</td>\n",
       "    </tr>\n",
       "    <tr>\n",
       "      <th>1</th>\n",
       "      <td>好听</td>\n",
       "      <td>2</td>\n",
       "    </tr>\n",
       "    <tr>\n",
       "      <th>2</th>\n",
       "      <td>乐器</td>\n",
       "      <td>1</td>\n",
       "    </tr>\n",
       "    <tr>\n",
       "      <th>3</th>\n",
       "      <td>配音</td>\n",
       "      <td>6</td>\n",
       "    </tr>\n",
       "    <tr>\n",
       "      <th>4</th>\n",
       "      <td>配乐</td>\n",
       "      <td>10</td>\n",
       "    </tr>\n",
       "    <tr>\n",
       "      <th>...</th>\n",
       "      <td>...</td>\n",
       "      <td>...</td>\n",
       "    </tr>\n",
       "    <tr>\n",
       "      <th>58</th>\n",
       "      <td>多平台</td>\n",
       "      <td>1</td>\n",
       "    </tr>\n",
       "    <tr>\n",
       "      <th>59</th>\n",
       "      <td>跨平台</td>\n",
       "      <td>0</td>\n",
       "    </tr>\n",
       "    <tr>\n",
       "      <th>60</th>\n",
       "      <td>全平台</td>\n",
       "      <td>6</td>\n",
       "    </tr>\n",
       "    <tr>\n",
       "      <th>61</th>\n",
       "      <td>运营</td>\n",
       "      <td>11</td>\n",
       "    </tr>\n",
       "    <tr>\n",
       "      <th>62</th>\n",
       "      <td>宣传</td>\n",
       "      <td>4</td>\n",
       "    </tr>\n",
       "  </tbody>\n",
       "</table>\n",
       "<p>63 rows × 2 columns</p>\n",
       "</div>"
      ],
      "text/plain": [
       "   keywords num\n",
       "0        音乐  41\n",
       "1        好听   2\n",
       "2        乐器   1\n",
       "3        配音   6\n",
       "4        配乐  10\n",
       "..      ...  ..\n",
       "58      多平台   1\n",
       "59      跨平台   0\n",
       "60      全平台   6\n",
       "61       运营  11\n",
       "62       宣传   4\n",
       "\n",
       "[63 rows x 2 columns]"
      ]
     },
     "execution_count": 59,
     "metadata": {},
     "output_type": "execute_result"
    }
   ],
   "source": [
    "DataTable"
   ]
  },
  {
   "cell_type": "code",
   "execution_count": 60,
   "metadata": {},
   "outputs": [],
   "source": [
    "DataTable.to_csv(\"result.csv\",encoding=\"utf_8_sig\",index=False)"
   ]
  },
  {
   "cell_type": "code",
   "execution_count": null,
   "metadata": {},
   "outputs": [],
   "source": []
  },
  {
   "cell_type": "code",
   "execution_count": null,
   "metadata": {},
   "outputs": [],
   "source": []
  }
 ],
 "metadata": {
  "kernelspec": {
   "display_name": "Python 3",
   "language": "python",
   "name": "python3"
  },
  "language_info": {
   "codemirror_mode": {
    "name": "ipython",
    "version": 3
   },
   "file_extension": ".py",
   "mimetype": "text/x-python",
   "name": "python",
   "nbconvert_exporter": "python",
   "pygments_lexer": "ipython3",
   "version": "3.8.5"
  }
 },
 "nbformat": 4,
 "nbformat_minor": 4
}
